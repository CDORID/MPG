{
 "cells": [
  {
   "cell_type": "code",
   "execution_count": 15,
   "metadata": {},
   "outputs": [],
   "source": [
    "import pandas as pd\n",
    "import matplotlib as plt\n",
    "from datetime import datetime\n",
    "import numpy as np\n",
    "import my_formats as mf\n",
    "\n",
    "pd.options.display.max_columns = 999"
   ]
  },
  {
   "cell_type": "code",
   "execution_count": 3,
   "metadata": {},
   "outputs": [],
   "source": [
    "import new_data as data"
   ]
  },
  {
   "cell_type": "code",
   "execution_count": 4,
   "metadata": {
    "scrolled": true
   },
   "outputs": [
    {
     "name": "stdout",
     "output_type": "stream",
     "text": [
      "MGP DATA : ON\n"
     ]
    }
   ],
   "source": [
    "mpg = data.MpgData()"
   ]
  },
  {
   "cell_type": "code",
   "execution_count": 7,
   "metadata": {},
   "outputs": [],
   "source": [
    "player = mpg.Player(mpg.data,178478)"
   ]
  },
  {
   "cell_type": "code",
   "execution_count": 8,
   "metadata": {},
   "outputs": [
    {
     "data": {
      "text/plain": [
       "5.25"
      ]
     },
     "execution_count": 8,
     "metadata": {},
     "output_type": "execute_result"
    }
   ],
   "source": [
    "player.average_note"
   ]
  },
  {
   "cell_type": "code",
   "execution_count": 9,
   "metadata": {},
   "outputs": [],
   "source": [
    "hoverData = { \"points\": [ { \"curveNumber\": 0, \"pointNumber\": 11, \"pointIndex\": 11, \"x\": \"2019-11-26\", \"y\": 6.5 } ] }"
   ]
  },
  {
   "cell_type": "code",
   "execution_count": 20,
   "metadata": {},
   "outputs": [
    {
     "name": "stderr",
     "output_type": "stream",
     "text": [
      "C:\\ProgramData\\Anaconda3\\lib\\site-packages\\ipykernel_launcher.py:33: RuntimeWarning:\n",
      "\n",
      "invalid value encountered in double_scalars\n",
      "\n"
     ]
    },
    {
     "ename": "UnboundLocalError",
     "evalue": "local variable 'injured' referenced before assignment",
     "output_type": "error",
     "traceback": [
      "\u001b[1;31m---------------------------------------------------------------------------\u001b[0m",
      "\u001b[1;31mUnboundLocalError\u001b[0m                         Traceback (most recent call last)",
      "\u001b[1;32m<ipython-input-20-e56a42b87a52>\u001b[0m in \u001b[0;36m<module>\u001b[1;34m\u001b[0m\n\u001b[0;32m     65\u001b[0m         \u001b[1;32mreturn\u001b[0m \u001b[0mplayer\u001b[0m\u001b[1;33m.\u001b[0m\u001b[0mhover_stats\u001b[0m\u001b[1;33m\u001b[0m\u001b[1;33m\u001b[0m\u001b[0m\n\u001b[0;32m     66\u001b[0m \u001b[1;33m\u001b[0m\u001b[0m\n\u001b[1;32m---> 67\u001b[1;33m \u001b[0mhover\u001b[0m \u001b[1;33m=\u001b[0m \u001b[0mstats_for_hover\u001b[0m\u001b[1;33m(\u001b[0m\u001b[0mplayer\u001b[0m\u001b[1;33m,\u001b[0m\u001b[0mhoverData\u001b[0m\u001b[1;33m)\u001b[0m\u001b[1;33m\u001b[0m\u001b[1;33m\u001b[0m\u001b[0m\n\u001b[0m\u001b[0;32m     68\u001b[0m \u001b[0mprint\u001b[0m\u001b[1;33m(\u001b[0m\u001b[0mhover\u001b[0m\u001b[1;33m)\u001b[0m\u001b[1;33m\u001b[0m\u001b[1;33m\u001b[0m\u001b[0m\n",
      "\u001b[1;32m<ipython-input-20-e56a42b87a52>\u001b[0m in \u001b[0;36mstats_for_hover\u001b[1;34m(player, hoverData)\u001b[0m\n\u001b[0;32m     35\u001b[0m \u001b[1;33m\u001b[0m\u001b[0m\n\u001b[0;32m     36\u001b[0m         \u001b[1;31m## Ocasional\u001b[0m\u001b[1;33m\u001b[0m\u001b[1;33m\u001b[0m\u001b[1;33m\u001b[0m\u001b[0m\n\u001b[1;32m---> 37\u001b[1;33m         \u001b[0minjured\u001b[0m \u001b[1;33m=\u001b[0m \u001b[0minjured\u001b[0m\u001b[1;33m(\u001b[0m\u001b[0mplayer\u001b[0m\u001b[1;33m.\u001b[0m\u001b[0mdata_player_match\u001b[0m\u001b[1;33m.\u001b[0m\u001b[0miloc\u001b[0m\u001b[1;33m[\u001b[0m\u001b[1;36m0\u001b[0m\u001b[1;33m,\u001b[0m\u001b[1;33m:\u001b[0m\u001b[1;33m]\u001b[0m\u001b[1;33m[\u001b[0m\u001b[1;34m'stat_subReason'\u001b[0m\u001b[1;33m]\u001b[0m\u001b[1;33m)\u001b[0m\u001b[1;33m\u001b[0m\u001b[1;33m\u001b[0m\u001b[0m\n\u001b[0m\u001b[0;32m     38\u001b[0m \u001b[1;33m\u001b[0m\u001b[0m\n\u001b[0;32m     39\u001b[0m         \u001b[0mred_card\u001b[0m \u001b[1;33m=\u001b[0m \u001b[0mplayer\u001b[0m\u001b[1;33m.\u001b[0m\u001b[0mdata_player_match\u001b[0m\u001b[1;33m.\u001b[0m\u001b[0miloc\u001b[0m\u001b[1;33m[\u001b[0m\u001b[1;36m0\u001b[0m\u001b[1;33m,\u001b[0m\u001b[1;33m:\u001b[0m\u001b[1;33m]\u001b[0m\u001b[1;33m[\u001b[0m\u001b[1;34m'info_red_card'\u001b[0m\u001b[1;33m]\u001b[0m\u001b[1;33m\u001b[0m\u001b[1;33m\u001b[0m\u001b[0m\n",
      "\u001b[1;31mUnboundLocalError\u001b[0m: local variable 'injured' referenced before assignment"
     ]
    }
   ],
   "source": [
    "def injured(sub_reason):\n",
    "    if sub_reason == 'Injured':\n",
    "        injured = sub_reason\n",
    "    else :\n",
    "        injured = \"No\"\n",
    "        \n",
    "    return injured\n",
    "\n",
    "\n",
    "def stats_for_hover(player,hoverData):\n",
    "        match_id = hoverData['points'][0]['x']\n",
    "        player.data_player_match = player.data_player[player.data_player['info_date_time']==match_id]\n",
    "        \n",
    "        ## STATUS\n",
    "        time_played = player.data_player_match.iloc[0,:]['info_mins_played']\n",
    "        goals_scored = player.data_player_match.iloc[0,:]['info_goals']\n",
    "        grade = player.data_player_match.iloc[0,:]['info_note_final_2015']\n",
    "        opponent = player.data_player_match.iloc[0,:]['info_opponent']\n",
    "        position = player.data_player_match.iloc[0,:]['info_position']\n",
    "\n",
    "        substitute = player.data_player_match.iloc[0,:]['info_sub']\n",
    "        home_or_away = player.data_player_match.iloc[0,:]['info_where']\n",
    "        \n",
    "        ## STATS\n",
    "        assist = player.data_player_match.iloc[0,:]['stat_goal_assist']\n",
    "        pass_precision = player.data_player_match.iloc[0,:]['stat_pass']\n",
    "        scoring_att = player.data_player_match.iloc[0,:]['stat_total_scoring_att']\n",
    "        touches = player.data_player_match.iloc[0,:]['stat_touches']\n",
    "        \n",
    "        \n",
    "        ### dont take shot missed\n",
    "        shot_missed = player.data_player_match.iloc[0,:]['stat_shot_off_target']\n",
    "        shot_precision = round((scoring_att-shot_missed)/scoring_att,2)\n",
    "        accurate_shots = scoring_att-shot_missed\n",
    "        \n",
    "        ## Ocasional\n",
    "        injured_status = injured(player.data_player_match.iloc[0,:]['stat_subReason'])\n",
    "\n",
    "        red_card = player.data_player_match.iloc[0,:]['info_red_card']\n",
    "        yellow_card = player.data_player_match.iloc[0,:]['info_yellow_card']    \n",
    "        player.hover_stats = [## STATUS\n",
    "                              opponent,\n",
    "                              home_or_away,\n",
    "                              position,\n",
    "                              grade,                         \n",
    "                              time_played,\n",
    "                              substitute,\n",
    "                              \n",
    "                              ## STATS\n",
    "                              goals_scored,\n",
    "                              assist, \n",
    "                              scoring_att,\n",
    "                              accurate_shots, \n",
    "                              shot_precision,\n",
    "                              touches,\n",
    "                              pass_precision,\n",
    "                              \n",
    "                              ## Ocasionnal\n",
    "                              injured_status,\n",
    "                              red_card,\n",
    "                              yellow_card\n",
    "                              ]\n",
    "            \n",
    "       # text_hover = mf.MyFormating().stats_hover(player.hover_stats)\n",
    "        return player.hover_stats\n",
    "    \n",
    "hover = stats_for_hover(player,hoverData)\n",
    "print(hover)\n"
   ]
  }
 ],
 "metadata": {
  "kernelspec": {
   "display_name": "Python 3",
   "language": "python",
   "name": "python3"
  },
  "language_info": {
   "codemirror_mode": {
    "name": "ipython",
    "version": 3
   },
   "file_extension": ".py",
   "mimetype": "text/x-python",
   "name": "python",
   "nbconvert_exporter": "python",
   "pygments_lexer": "ipython3",
   "version": "3.7.3"
  }
 },
 "nbformat": 4,
 "nbformat_minor": 2
}
