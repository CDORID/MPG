{
 "cells": [
  {
   "cell_type": "code",
   "execution_count": 1,
   "metadata": {},
   "outputs": [],
   "source": [
    "import pandas as pd\n",
    "import matplotlib as plt\n",
    "from datetime import datetime\n",
    "import numpy as np\n",
    "import datetime\n",
    "import data_reader as dr\n",
    "import time\n",
    "import pickle\n",
    "\n",
    "import importlib\n",
    "import GoogleNews\n",
    "pd.set_option('display.width', 1000)\n",
    "pd.options.display.max_columns = 999\n",
    "pd.options.display.max_colwidth = 100"
   ]
  },
  {
   "cell_type": "code",
   "execution_count": 104,
   "metadata": {},
   "outputs": [
    {
     "name": "stderr",
     "output_type": "stream",
     "text": [
      "C:\\ProgramData\\Anaconda3\\lib\\site-packages\\IPython\\core\\interactiveshell.py:3057: DtypeWarning: Columns (13) have mixed types. Specify dtype option on import or set low_memory=False.\n",
      "  interactivity=interactivity, compiler=compiler, result=result)\n"
     ]
    }
   ],
   "source": [
    "df = pd.read_csv('MPG_data/data_edited.csv')"
   ]
  },
  {
   "cell_type": "code",
   "execution_count": 142,
   "metadata": {},
   "outputs": [],
   "source": [
    "champ = {'1':'Ligue 1',\n",
    "'2':'Premier Ligue',\n",
    " '3':'Liga',\n",
    "'4':'Ligue 2',\n",
    "'5':'Serie A',\n",
    " '6':'Champions League'}"
   ]
  },
  {
   "cell_type": "code",
   "execution_count": 144,
   "metadata": {},
   "outputs": [],
   "source": [
    "import json \n",
    "json.dump(champ, open('MPG_data/championships.json', 'w'))"
   ]
  },
  {
   "cell_type": "code",
   "execution_count": 41,
   "metadata": {},
   "outputs": [],
   "source": [
    "import json \n",
    "dict_ligue = json.load(open('MPG_data/championships.json', 'r'))"
   ]
  },
  {
   "cell_type": "code",
   "execution_count": 40,
   "metadata": {},
   "outputs": [
    {
     "data": {
      "text/plain": [
       "['Ligue 1', 'Premier Ligue', 'Liga', 'Ligue 2', 'Serie A', 'Champions League']"
      ]
     },
     "execution_count": 40,
     "metadata": {},
     "output_type": "execute_result"
    }
   ],
   "source": [
    "list(ligue.values())"
   ]
  },
  {
   "cell_type": "code",
   "execution_count": 36,
   "metadata": {},
   "outputs": [
    {
     "name": "stdout",
     "output_type": "stream",
     "text": [
      "1\n"
     ]
    }
   ],
   "source": [
    "def get_key(value = None):\n",
    "    j = 1\n",
    "    for i in ligue.values():\n",
    "        if i == value :\n",
    "            key = j\n",
    "        j = j + 1\n",
    "        \n",
    "    return key\n",
    "       \n",
    "        \n",
    "print(get_key('Ligue 1'))"
   ]
  },
  {
   "cell_type": "code",
   "execution_count": 39,
   "metadata": {},
   "outputs": [
    {
     "data": {
      "text/plain": [
       "[('1', 'Ligue 1'),\n",
       " ('2', 'Premier Ligue'),\n",
       " ('3', 'Liga'),\n",
       " ('4', 'Ligue 2'),\n",
       " ('5', 'Serie A'),\n",
       " ('6', 'Champions League')]"
      ]
     },
     "execution_count": 39,
     "metadata": {},
     "output_type": "execute_result"
    }
   ],
   "source": [
    "list(ligue.items())"
   ]
  },
  {
   "cell_type": "code",
   "execution_count": 49,
   "metadata": {},
   "outputs": [
    {
     "data": {
      "text/plain": [
       "'Ligue 1'"
      ]
     },
     "execution_count": 49,
     "metadata": {},
     "output_type": "execute_result"
    }
   ],
   "source": [
    "dict_ligue['1']"
   ]
  },
  {
   "cell_type": "code",
   "execution_count": 51,
   "metadata": {},
   "outputs": [],
   "source": [
    "inv_dic = {v: k for k, v in dict_ligue.items()}"
   ]
  },
  {
   "cell_type": "code",
   "execution_count": 52,
   "metadata": {},
   "outputs": [
    {
     "data": {
      "text/plain": [
       "[{'label': '1', 'value': 'Ligue 1'},\n",
       " {'label': '2', 'value': 'Premier Ligue'},\n",
       " {'label': '3', 'value': 'Liga'},\n",
       " {'label': '4', 'value': 'Ligue 2'},\n",
       " {'label': '5', 'value': 'Serie A'},\n",
       " {'label': '6', 'value': 'Champions League'}]"
      ]
     },
     "execution_count": 52,
     "metadata": {},
     "output_type": "execute_result"
    }
   ],
   "source": [
    "[{'label' : ligue, 'value' : dict_ligue[str(ligue)]} for ligue in list(inv_dic.values())]"
   ]
  },
  {
   "cell_type": "code",
   "execution_count": 54,
   "metadata": {},
   "outputs": [
    {
     "data": {
      "text/plain": [
       "['Ligue 1', 'Premier Ligue', 'Liga', 'Ligue 2', 'Serie A', 'Champions League']"
      ]
     },
     "execution_count": 54,
     "metadata": {},
     "output_type": "execute_result"
    }
   ],
   "source": [
    "list(inv_dic.keys())"
   ]
  },
  {
   "cell_type": "code",
   "execution_count": 55,
   "metadata": {},
   "outputs": [
    {
     "data": {
      "text/plain": [
       "'1'"
      ]
     },
     "execution_count": 55,
     "metadata": {},
     "output_type": "execute_result"
    }
   ],
   "source": [
    "inv_dic['Ligue 1']"
   ]
  },
  {
   "cell_type": "code",
   "execution_count": null,
   "metadata": {},
   "outputs": [],
   "source": []
  }
 ],
 "metadata": {
  "kernelspec": {
   "display_name": "Python 3",
   "language": "python",
   "name": "python3"
  },
  "language_info": {
   "codemirror_mode": {
    "name": "ipython",
    "version": 3
   },
   "file_extension": ".py",
   "mimetype": "text/x-python",
   "name": "python",
   "nbconvert_exporter": "python",
   "pygments_lexer": "ipython3",
   "version": "3.7.3"
  }
 },
 "nbformat": 4,
 "nbformat_minor": 2
}
