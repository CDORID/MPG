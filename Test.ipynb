{
 "cells": [
  {
   "cell_type": "code",
   "execution_count": 1,
   "metadata": {},
   "outputs": [],
   "source": [
    "import pandas as pd\n",
    "import matplotlib as plt\n",
    "from datetime import datetime\n",
    "import numpy as np\n",
    "import my_formats as mf\n",
    "\n",
    "pd.options.display.max_columns = 999"
   ]
  },
  {
   "cell_type": "code",
   "execution_count": 2,
   "metadata": {},
   "outputs": [],
   "source": [
    "import new_data as data"
   ]
  },
  {
   "cell_type": "code",
   "execution_count": 3,
   "metadata": {
    "scrolled": true
   },
   "outputs": [
    {
     "name": "stdout",
     "output_type": "stream",
     "text": [
      "MGP DATA : ON\n"
     ]
    }
   ],
   "source": [
    "mpg = data.MpgData()"
   ]
  },
  {
   "cell_type": "code",
   "execution_count": 4,
   "metadata": {},
   "outputs": [],
   "source": [
    "player = mpg.Player(mpg.data,178478)"
   ]
  },
  {
   "cell_type": "code",
   "execution_count": 5,
   "metadata": {},
   "outputs": [],
   "source": [
    "hoverData = { \"points\": [ { \"curveNumber\": 0, \"pointNumber\": 11, \"pointIndex\": 11, \"x\": \"2019-11-26\", \"y\": 6.5 } ] }"
   ]
  },
  {
   "cell_type": "code",
   "execution_count": 6,
   "metadata": {
    "scrolled": true
   },
   "outputs": [
    {
     "data": {
      "text/plain": [
       "[P('VS: nan'),\n",
       " P('\\nWhere : Away'),\n",
       " P('\\nPosition : Defender'),\n",
       " P('\\nGrade : nan'),\n",
       " P('\\nTime Played : 0.0'),\n",
       " P('\\nSubstitute : 1.0'),\n",
       " P('\\nGoals : 0'),\n",
       " P('\\nAssists : nan'),\n",
       " P('Scoring attempts : nan'),\n",
       " P('\\nAccurate shots : nan'),\n",
       " P('\\nPrecision over shots : nan'),\n",
       " P('\\nTouches : nan'),\n",
       " P('\\nPass precision : nan'),\n",
       " P('\\nInjured : No'),\n",
       " P('\\nRed Card : 0'),\n",
       " P('\\nYellow Card : 0')]"
      ]
     },
     "execution_count": 6,
     "metadata": {},
     "output_type": "execute_result"
    }
   ],
   "source": [
    "hover = mpg.Player(mpg.data,178478).stats_for_hover(hoverData)\n",
    "hover"
   ]
  },
  {
   "cell_type": "code",
   "execution_count": null,
   "metadata": {},
   "outputs": [],
   "source": []
  }
 ],
 "metadata": {
  "kernelspec": {
   "display_name": "Python 3",
   "language": "python",
   "name": "python3"
  },
  "language_info": {
   "codemirror_mode": {
    "name": "ipython",
    "version": 3
   },
   "file_extension": ".py",
   "mimetype": "text/x-python",
   "name": "python",
   "nbconvert_exporter": "python",
   "pygments_lexer": "ipython3",
   "version": "3.7.3"
  }
 },
 "nbformat": 4,
 "nbformat_minor": 2
}
